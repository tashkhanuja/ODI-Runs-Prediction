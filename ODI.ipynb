{
 "cells": [
  {
   "cell_type": "code",
   "execution_count": 2,
   "metadata": {
    "id": "lwXd4wVZzHd8"
   },
   "outputs": [],
   "source": [
    "import pandas as pd\n",
    "import numpy as np\n",
    "import seaborn as sns\n",
    "import matplotlib.pyplot as plt"
   ]
  },
  {
   "cell_type": "code",
   "execution_count": 11,
   "metadata": {
    "colab": {
     "base_uri": "https://localhost:8080/",
     "height": 34
    },
    "id": "gDJwsEyQzSKS",
    "outputId": "70b8d277-b78c-464b-f66d-923f1ed37ff0"
   },
   "outputs": [],
   "source": [
    "data=pd.read_csv(\"C:/Users/User/Desktop/odi.csv\")\n",
    "#load the data "
   ]
  },
  {
   "cell_type": "code",
   "execution_count": 12,
   "metadata": {
    "colab": {
     "base_uri": "https://localhost:8080/",
     "height": 567
    },
    "id": "ZjC3sQf309Wp",
    "outputId": "3fff431c-2c83-42a7-db54-96e0880cfd92"
   },
   "outputs": [
    {
     "data": {
      "text/html": [
       "<div>\n",
       "<style scoped>\n",
       "    .dataframe tbody tr th:only-of-type {\n",
       "        vertical-align: middle;\n",
       "    }\n",
       "\n",
       "    .dataframe tbody tr th {\n",
       "        vertical-align: top;\n",
       "    }\n",
       "\n",
       "    .dataframe thead th {\n",
       "        text-align: right;\n",
       "    }\n",
       "</style>\n",
       "<table border=\"1\" class=\"dataframe\">\n",
       "  <thead>\n",
       "    <tr style=\"text-align: right;\">\n",
       "      <th></th>\n",
       "      <th>mid</th>\n",
       "      <th>date</th>\n",
       "      <th>venue</th>\n",
       "      <th>bat_team</th>\n",
       "      <th>bowl_team</th>\n",
       "      <th>batsman</th>\n",
       "      <th>bowler</th>\n",
       "      <th>runs</th>\n",
       "      <th>wickets</th>\n",
       "      <th>overs</th>\n",
       "      <th>runs_last_5</th>\n",
       "      <th>wickets_last_5</th>\n",
       "      <th>striker</th>\n",
       "      <th>non-striker</th>\n",
       "      <th>total</th>\n",
       "    </tr>\n",
       "  </thead>\n",
       "  <tbody>\n",
       "    <tr>\n",
       "      <td>0</td>\n",
       "      <td>1</td>\n",
       "      <td>2006-06-13</td>\n",
       "      <td>Civil Service Cricket Club, Stormont</td>\n",
       "      <td>England</td>\n",
       "      <td>Ireland</td>\n",
       "      <td>ME Trescothick</td>\n",
       "      <td>DT Johnston</td>\n",
       "      <td>0</td>\n",
       "      <td>0</td>\n",
       "      <td>0.1</td>\n",
       "      <td>0</td>\n",
       "      <td>0</td>\n",
       "      <td>0</td>\n",
       "      <td>0</td>\n",
       "      <td>301</td>\n",
       "    </tr>\n",
       "    <tr>\n",
       "      <td>1</td>\n",
       "      <td>1</td>\n",
       "      <td>2006-06-13</td>\n",
       "      <td>Civil Service Cricket Club, Stormont</td>\n",
       "      <td>England</td>\n",
       "      <td>Ireland</td>\n",
       "      <td>ME Trescothick</td>\n",
       "      <td>DT Johnston</td>\n",
       "      <td>0</td>\n",
       "      <td>0</td>\n",
       "      <td>0.2</td>\n",
       "      <td>0</td>\n",
       "      <td>0</td>\n",
       "      <td>0</td>\n",
       "      <td>0</td>\n",
       "      <td>301</td>\n",
       "    </tr>\n",
       "    <tr>\n",
       "      <td>2</td>\n",
       "      <td>1</td>\n",
       "      <td>2006-06-13</td>\n",
       "      <td>Civil Service Cricket Club, Stormont</td>\n",
       "      <td>England</td>\n",
       "      <td>Ireland</td>\n",
       "      <td>ME Trescothick</td>\n",
       "      <td>DT Johnston</td>\n",
       "      <td>4</td>\n",
       "      <td>0</td>\n",
       "      <td>0.3</td>\n",
       "      <td>4</td>\n",
       "      <td>0</td>\n",
       "      <td>0</td>\n",
       "      <td>0</td>\n",
       "      <td>301</td>\n",
       "    </tr>\n",
       "    <tr>\n",
       "      <td>3</td>\n",
       "      <td>1</td>\n",
       "      <td>2006-06-13</td>\n",
       "      <td>Civil Service Cricket Club, Stormont</td>\n",
       "      <td>England</td>\n",
       "      <td>Ireland</td>\n",
       "      <td>ME Trescothick</td>\n",
       "      <td>DT Johnston</td>\n",
       "      <td>6</td>\n",
       "      <td>0</td>\n",
       "      <td>0.4</td>\n",
       "      <td>6</td>\n",
       "      <td>0</td>\n",
       "      <td>0</td>\n",
       "      <td>0</td>\n",
       "      <td>301</td>\n",
       "    </tr>\n",
       "    <tr>\n",
       "      <td>4</td>\n",
       "      <td>1</td>\n",
       "      <td>2006-06-13</td>\n",
       "      <td>Civil Service Cricket Club, Stormont</td>\n",
       "      <td>England</td>\n",
       "      <td>Ireland</td>\n",
       "      <td>ME Trescothick</td>\n",
       "      <td>DT Johnston</td>\n",
       "      <td>6</td>\n",
       "      <td>0</td>\n",
       "      <td>0.5</td>\n",
       "      <td>6</td>\n",
       "      <td>0</td>\n",
       "      <td>0</td>\n",
       "      <td>0</td>\n",
       "      <td>301</td>\n",
       "    </tr>\n",
       "  </tbody>\n",
       "</table>\n",
       "</div>"
      ],
      "text/plain": [
       "   mid        date                                 venue bat_team bowl_team  \\\n",
       "0    1  2006-06-13  Civil Service Cricket Club, Stormont  England   Ireland   \n",
       "1    1  2006-06-13  Civil Service Cricket Club, Stormont  England   Ireland   \n",
       "2    1  2006-06-13  Civil Service Cricket Club, Stormont  England   Ireland   \n",
       "3    1  2006-06-13  Civil Service Cricket Club, Stormont  England   Ireland   \n",
       "4    1  2006-06-13  Civil Service Cricket Club, Stormont  England   Ireland   \n",
       "\n",
       "          batsman       bowler  runs  wickets  overs  runs_last_5  \\\n",
       "0  ME Trescothick  DT Johnston     0        0    0.1            0   \n",
       "1  ME Trescothick  DT Johnston     0        0    0.2            0   \n",
       "2  ME Trescothick  DT Johnston     4        0    0.3            4   \n",
       "3  ME Trescothick  DT Johnston     6        0    0.4            6   \n",
       "4  ME Trescothick  DT Johnston     6        0    0.5            6   \n",
       "\n",
       "   wickets_last_5  striker  non-striker  total  \n",
       "0               0        0            0    301  \n",
       "1               0        0            0    301  \n",
       "2               0        0            0    301  \n",
       "3               0        0            0    301  \n",
       "4               0        0            0    301  "
      ]
     },
     "execution_count": 12,
     "metadata": {},
     "output_type": "execute_result"
    }
   ],
   "source": [
    "data.head()"
   ]
  },
  {
   "cell_type": "code",
   "execution_count": 13,
   "metadata": {
    "colab": {
     "base_uri": "https://localhost:8080/",
     "height": 567
    },
    "id": "hRW3IRjQMeA2",
    "outputId": "94b6b7f7-1614-4ddb-a99d-1fc5d5af8a11"
   },
   "outputs": [
    {
     "data": {
      "text/plain": [
       "(350899, 15)"
      ]
     },
     "execution_count": 13,
     "metadata": {},
     "output_type": "execute_result"
    }
   ],
   "source": [
    "data.shape"
   ]
  },
  {
   "cell_type": "code",
   "execution_count": 14,
   "metadata": {},
   "outputs": [
    {
     "name": "stdout",
     "output_type": "stream",
     "text": [
      "<class 'pandas.core.frame.DataFrame'>\n",
      "RangeIndex: 350899 entries, 0 to 350898\n",
      "Data columns (total 15 columns):\n",
      "mid               350899 non-null int64\n",
      "date              350899 non-null object\n",
      "venue             350899 non-null object\n",
      "bat_team          350899 non-null object\n",
      "bowl_team         350899 non-null object\n",
      "batsman           350899 non-null object\n",
      "bowler            350899 non-null object\n",
      "runs              350899 non-null int64\n",
      "wickets           350899 non-null int64\n",
      "overs             350899 non-null float64\n",
      "runs_last_5       350899 non-null int64\n",
      "wickets_last_5    350899 non-null int64\n",
      "striker           350899 non-null int64\n",
      "non-striker       350899 non-null int64\n",
      "total             350899 non-null int64\n",
      "dtypes: float64(1), int64(8), object(6)\n",
      "memory usage: 40.2+ MB\n"
     ]
    }
   ],
   "source": [
    "data.info()"
   ]
  },
  {
   "cell_type": "code",
   "execution_count": 15,
   "metadata": {
    "colab": {
     "base_uri": "https://localhost:8080/",
     "height": 287
    },
    "id": "AJWAaM8E1BNO",
    "outputId": "e012d1d2-7f31-441e-ce0a-efe2976f3c32"
   },
   "outputs": [
    {
     "data": {
      "text/html": [
       "<div>\n",
       "<style scoped>\n",
       "    .dataframe tbody tr th:only-of-type {\n",
       "        vertical-align: middle;\n",
       "    }\n",
       "\n",
       "    .dataframe tbody tr th {\n",
       "        vertical-align: top;\n",
       "    }\n",
       "\n",
       "    .dataframe thead th {\n",
       "        text-align: right;\n",
       "    }\n",
       "</style>\n",
       "<table border=\"1\" class=\"dataframe\">\n",
       "  <thead>\n",
       "    <tr style=\"text-align: right;\">\n",
       "      <th></th>\n",
       "      <th>mid</th>\n",
       "      <th>runs</th>\n",
       "      <th>wickets</th>\n",
       "      <th>overs</th>\n",
       "      <th>runs_last_5</th>\n",
       "      <th>wickets_last_5</th>\n",
       "      <th>striker</th>\n",
       "      <th>non-striker</th>\n",
       "      <th>total</th>\n",
       "    </tr>\n",
       "  </thead>\n",
       "  <tbody>\n",
       "    <tr>\n",
       "      <td>count</td>\n",
       "      <td>350899.000000</td>\n",
       "      <td>350899.000000</td>\n",
       "      <td>350899.000000</td>\n",
       "      <td>350899.000000</td>\n",
       "      <td>350899.000000</td>\n",
       "      <td>350899.000000</td>\n",
       "      <td>350899.000000</td>\n",
       "      <td>350899.000000</td>\n",
       "      <td>350899.000000</td>\n",
       "    </tr>\n",
       "    <tr>\n",
       "      <td>mean</td>\n",
       "      <td>594.360426</td>\n",
       "      <td>114.801661</td>\n",
       "      <td>2.974970</td>\n",
       "      <td>24.052899</td>\n",
       "      <td>23.548303</td>\n",
       "      <td>0.669814</td>\n",
       "      <td>35.180129</td>\n",
       "      <td>12.427944</td>\n",
       "      <td>255.355387</td>\n",
       "    </tr>\n",
       "    <tr>\n",
       "      <td>std</td>\n",
       "      <td>343.605128</td>\n",
       "      <td>77.665959</td>\n",
       "      <td>2.298959</td>\n",
       "      <td>14.235439</td>\n",
       "      <td>11.042974</td>\n",
       "      <td>0.833895</td>\n",
       "      <td>28.115264</td>\n",
       "      <td>15.019181</td>\n",
       "      <td>62.354412</td>\n",
       "    </tr>\n",
       "    <tr>\n",
       "      <td>min</td>\n",
       "      <td>1.000000</td>\n",
       "      <td>0.000000</td>\n",
       "      <td>0.000000</td>\n",
       "      <td>0.000000</td>\n",
       "      <td>0.000000</td>\n",
       "      <td>0.000000</td>\n",
       "      <td>0.000000</td>\n",
       "      <td>0.000000</td>\n",
       "      <td>44.000000</td>\n",
       "    </tr>\n",
       "    <tr>\n",
       "      <td>25%</td>\n",
       "      <td>296.000000</td>\n",
       "      <td>51.000000</td>\n",
       "      <td>1.000000</td>\n",
       "      <td>11.600000</td>\n",
       "      <td>17.000000</td>\n",
       "      <td>0.000000</td>\n",
       "      <td>13.000000</td>\n",
       "      <td>2.000000</td>\n",
       "      <td>217.000000</td>\n",
       "    </tr>\n",
       "    <tr>\n",
       "      <td>50%</td>\n",
       "      <td>596.000000</td>\n",
       "      <td>105.000000</td>\n",
       "      <td>3.000000</td>\n",
       "      <td>23.600000</td>\n",
       "      <td>23.000000</td>\n",
       "      <td>0.000000</td>\n",
       "      <td>29.000000</td>\n",
       "      <td>7.000000</td>\n",
       "      <td>257.000000</td>\n",
       "    </tr>\n",
       "    <tr>\n",
       "      <td>75%</td>\n",
       "      <td>893.000000</td>\n",
       "      <td>168.000000</td>\n",
       "      <td>4.000000</td>\n",
       "      <td>36.200000</td>\n",
       "      <td>29.000000</td>\n",
       "      <td>1.000000</td>\n",
       "      <td>50.000000</td>\n",
       "      <td>18.000000</td>\n",
       "      <td>298.000000</td>\n",
       "    </tr>\n",
       "    <tr>\n",
       "      <td>max</td>\n",
       "      <td>1188.000000</td>\n",
       "      <td>444.000000</td>\n",
       "      <td>10.000000</td>\n",
       "      <td>49.600000</td>\n",
       "      <td>101.000000</td>\n",
       "      <td>7.000000</td>\n",
       "      <td>264.000000</td>\n",
       "      <td>149.000000</td>\n",
       "      <td>444.000000</td>\n",
       "    </tr>\n",
       "  </tbody>\n",
       "</table>\n",
       "</div>"
      ],
      "text/plain": [
       "                 mid           runs        wickets          overs  \\\n",
       "count  350899.000000  350899.000000  350899.000000  350899.000000   \n",
       "mean      594.360426     114.801661       2.974970      24.052899   \n",
       "std       343.605128      77.665959       2.298959      14.235439   \n",
       "min         1.000000       0.000000       0.000000       0.000000   \n",
       "25%       296.000000      51.000000       1.000000      11.600000   \n",
       "50%       596.000000     105.000000       3.000000      23.600000   \n",
       "75%       893.000000     168.000000       4.000000      36.200000   \n",
       "max      1188.000000     444.000000      10.000000      49.600000   \n",
       "\n",
       "         runs_last_5  wickets_last_5        striker    non-striker  \\\n",
       "count  350899.000000   350899.000000  350899.000000  350899.000000   \n",
       "mean       23.548303        0.669814      35.180129      12.427944   \n",
       "std        11.042974        0.833895      28.115264      15.019181   \n",
       "min         0.000000        0.000000       0.000000       0.000000   \n",
       "25%        17.000000        0.000000      13.000000       2.000000   \n",
       "50%        23.000000        0.000000      29.000000       7.000000   \n",
       "75%        29.000000        1.000000      50.000000      18.000000   \n",
       "max       101.000000        7.000000     264.000000     149.000000   \n",
       "\n",
       "               total  \n",
       "count  350899.000000  \n",
       "mean      255.355387  \n",
       "std        62.354412  \n",
       "min        44.000000  \n",
       "25%       217.000000  \n",
       "50%       257.000000  \n",
       "75%       298.000000  \n",
       "max       444.000000  "
      ]
     },
     "execution_count": 15,
     "metadata": {},
     "output_type": "execute_result"
    }
   ],
   "source": [
    "data.describe()"
   ]
  },
  {
   "cell_type": "markdown",
   "metadata": {},
   "source": [
    "#  Preparing the data:"
   ]
  },
  {
   "cell_type": "code",
   "execution_count": 16,
   "metadata": {
    "colab": {
     "base_uri": "https://localhost:8080/",
     "height": 34
    },
    "id": "lFJuFL4i8csq",
    "outputId": "5abf06ec-427d-4a77-8da0-44476708f854"
   },
   "outputs": [
    {
     "data": {
      "text/plain": [
       "0"
      ]
     },
     "execution_count": 16,
     "metadata": {},
     "output_type": "execute_result"
    }
   ],
   "source": [
    "data.duplicated().sum() \n",
    "# no dulpicate value is present "
   ]
  },
  {
   "cell_type": "markdown",
   "metadata": {},
   "source": [
    "### Checking Missing/null values:"
   ]
  },
  {
   "cell_type": "code",
   "execution_count": 34,
   "metadata": {},
   "outputs": [
    {
     "data": {
      "text/plain": [
       "mid               0\n",
       "date              0\n",
       "venue             0\n",
       "bat_team          0\n",
       "bowl_team         0\n",
       "batsman           0\n",
       "bowler            0\n",
       "runs              0\n",
       "wickets           0\n",
       "overs             0\n",
       "runs_last_5       0\n",
       "wickets_last_5    0\n",
       "striker           0\n",
       "non-striker       0\n",
       "total             0\n",
       "dtype: int64"
      ]
     },
     "execution_count": 34,
     "metadata": {},
     "output_type": "execute_result"
    }
   ],
   "source": [
    "data.isnull().sum()"
   ]
  },
  {
   "cell_type": "code",
   "execution_count": 35,
   "metadata": {},
   "outputs": [
    {
     "data": {
      "text/plain": [
       "False"
      ]
     },
     "execution_count": 35,
     "metadata": {},
     "output_type": "execute_result"
    }
   ],
   "source": [
    "data.isnull().any().any()"
   ]
  },
  {
   "cell_type": "code",
   "execution_count": 36,
   "metadata": {},
   "outputs": [
    {
     "data": {
      "text/plain": [
       "<matplotlib.axes._subplots.AxesSubplot at 0x22b4917a5c8>"
      ]
     },
     "execution_count": 36,
     "metadata": {},
     "output_type": "execute_result"
    },
    {
     "data": {
      "image/png": "[encoded data removed]",
      "text/plain": [
       "<Figure size 1000x500 with 2 Axes>"
      ]
     },
     "metadata": {
      "needs_background": "light"
     },
     "output_type": "display_data"
    }
   ],
   "source": [
    "plt.figure(figsize=(10,5),dpi=100)\n",
    "sns.heatmap(data.isnull(),cmap='Blues')"
   ]
  },
  {
   "cell_type": "markdown",
   "metadata": {
    "id": "eTRRVFug4gh8"
   },
   "source": [
    "### **Detecting outilers**"
   ]
  },
  {
   "cell_type": "code",
   "execution_count": 17,
   "metadata": {
    "colab": {
     "base_uri": "https://localhost:8080/",
     "height": 352
    },
    "id": "vgvsiwsJ8rrm",
    "outputId": "987a64d1-45c9-4ecb-ef79-88ef3362a0ae"
   },
   "outputs": [
    {
     "data": {
      "text/plain": [
       "<matplotlib.axes._subplots.AxesSubplot at 0x22b484fe408>"
      ]
     },
     "execution_count": 17,
     "metadata": {},
     "output_type": "execute_result"
    },
    {
     "data": {
      "image/png": "[encoded data removed]",
      "text/plain": [
       "<Figure size 432x288 with 1 Axes>"
      ]
     },
     "metadata": {
      "needs_background": "light"
     },
     "output_type": "display_data"
    }
   ],
   "source": [
    "sns.boxplot(data[\"runs\"])"
   ]
  },
  {
   "cell_type": "code",
   "execution_count": 18,
   "metadata": {
    "colab": {
     "base_uri": "https://localhost:8080/",
     "height": 352
    },
    "id": "XcOyzPil9CAo",
    "outputId": "a9b6ca28-f8f5-48cb-d179-ca891c88112e"
   },
   "outputs": [
    {
     "data": {
      "text/plain": [
       "<matplotlib.axes._subplots.AxesSubplot at 0x22b4883bf48>"
      ]
     },
     "execution_count": 18,
     "metadata": {},
     "output_type": "execute_result"
    },
    {
     "data": {
      "image/png": "[encoded data removed]",
      "text/plain": [
       "<Figure size 432x288 with 1 Axes>"
      ]
     },
     "metadata": {
      "needs_background": "light"
     },
     "output_type": "display_data"
    }
   ],
   "source": [
    "sns.boxplot(data[\"wickets\"])"
   ]
  },
  {
   "cell_type": "code",
   "execution_count": 19,
   "metadata": {
    "id": "JtzWrnkr9L5J"
   },
   "outputs": [],
   "source": [
    "index=data[data[\"wickets\"]>8].index\n",
    "# we see that the outlier in above plot so we can remove wickects greater than 8"
   ]
  },
  {
   "cell_type": "code",
   "execution_count": 20,
   "metadata": {
    "id": "oMlxe4hH9ZK5"
   },
   "outputs": [],
   "source": [
    "data.drop(index,inplace=True,axis=0)"
   ]
  },
  {
   "cell_type": "code",
   "execution_count": 21,
   "metadata": {
    "colab": {
     "base_uri": "https://localhost:8080/",
     "height": 352
    },
    "id": "aqEqhv_Z9i3h",
    "outputId": "74589f87-35ed-402b-9271-4f63420227f3"
   },
   "outputs": [
    {
     "data": {
      "text/plain": [
       "<matplotlib.axes._subplots.AxesSubplot at 0x22b485fcd08>"
      ]
     },
     "execution_count": 21,
     "metadata": {},
     "output_type": "execute_result"
    },
    {
     "data": {
      "image/png": "[encoded data removed]",
      "text/plain": [
       "<Figure size 432x288 with 1 Axes>"
      ]
     },
     "metadata": {
      "needs_background": "light"
     },
     "output_type": "display_data"
    }
   ],
   "source": [
    "sns.boxplot(data[\"wickets\"])"
   ]
  },
  {
   "cell_type": "code",
   "execution_count": 22,
   "metadata": {
    "colab": {
     "base_uri": "https://localhost:8080/",
     "height": 352
    },
    "id": "3vhgXyfp9lwv",
    "outputId": "10969cc5-2ee0-435e-bcb2-e666b2227c39"
   },
   "outputs": [
    {
     "data": {
      "text/plain": [
       "<matplotlib.axes._subplots.AxesSubplot at 0x22b48666788>"
      ]
     },
     "execution_count": 22,
     "metadata": {},
     "output_type": "execute_result"
    },
    {
     "data": {
      "image/png": "[encoded data removed]",
      "text/plain": [
       "<Figure size 432x288 with 1 Axes>"
      ]
     },
     "metadata": {
      "needs_background": "light"
     },
     "output_type": "display_data"
    }
   ],
   "source": [
    "sns.boxplot(data[\"overs\"])"
   ]
  },
  {
   "cell_type": "code",
   "execution_count": 23,
   "metadata": {
    "colab": {
     "base_uri": "https://localhost:8080/",
     "height": 297
    },
    "id": "-CEPmnq-9pAR",
    "outputId": "1ef4bde6-61d6-4d68-e722-fb232b712edc"
   },
   "outputs": [
    {
     "data": {
      "text/plain": [
       "<matplotlib.axes._subplots.AxesSubplot at 0x22b4866b848>"
      ]
     },
     "execution_count": 23,
     "metadata": {},
     "output_type": "execute_result"
    },
    {
     "data": {
      "image/png": "[encoded data removed]",
      "text/plain": [
       "<Figure size 432x288 with 1 Axes>"
      ]
     },
     "metadata": {
      "needs_background": "light"
     },
     "output_type": "display_data"
    }
   ],
   "source": [
    "sns.kdeplot(data[\"runs_last_5\"])"
   ]
  },
  {
   "cell_type": "code",
   "execution_count": 24,
   "metadata": {
    "colab": {
     "base_uri": "https://localhost:8080/",
     "height": 352
    },
    "id": "mClgzShL-GdC",
    "outputId": "d9ca3078-bf91-44c5-cad8-56f5479ee607"
   },
   "outputs": [
    {
     "data": {
      "text/plain": [
       "<matplotlib.axes._subplots.AxesSubplot at 0x22b46ba8b48>"
      ]
     },
     "execution_count": 24,
     "metadata": {},
     "output_type": "execute_result"
    },
    {
     "data": {
      "image/png": "[encoded data removed]",
      "text/plain": [
       "<Figure size 432x288 with 1 Axes>"
      ]
     },
     "metadata": {
      "needs_background": "light"
     },
     "output_type": "display_data"
    }
   ],
   "source": [
    "sns.boxplot(data[\"striker\"])"
   ]
  },
  {
   "cell_type": "code",
   "execution_count": 25,
   "metadata": {
    "id": "TdXP179B21OY"
   },
   "outputs": [],
   "source": [
    "index=index=data[data[\"striker\"]>230].index\n",
    "data.drop(index,inplace=True,axis=0)"
   ]
  },
  {
   "cell_type": "code",
   "execution_count": 26,
   "metadata": {
    "colab": {
     "base_uri": "https://localhost:8080/",
     "height": 352
    },
    "id": "RZ5Q-qz932dP",
    "outputId": "7e20279f-3d87-481a-d69c-59bd1efe6894"
   },
   "outputs": [
    {
     "data": {
      "text/plain": [
       "<matplotlib.axes._subplots.AxesSubplot at 0x22b487bee88>"
      ]
     },
     "execution_count": 26,
     "metadata": {},
     "output_type": "execute_result"
    },
    {
     "data": {
      "image/png": "[encoded data removed]",
      "text/plain": [
       "<Figure size 432x288 with 1 Axes>"
      ]
     },
     "metadata": {
      "needs_background": "light"
     },
     "output_type": "display_data"
    }
   ],
   "source": [
    "sns.boxplot(data[\"striker\"])"
   ]
  },
  {
   "cell_type": "code",
   "execution_count": 27,
   "metadata": {
    "colab": {
     "base_uri": "https://localhost:8080/",
     "height": 352
    },
    "id": "eicFP8BL3_2L",
    "outputId": "151624fe-405c-4f3a-8d78-798ca718caa3"
   },
   "outputs": [
    {
     "data": {
      "text/plain": [
       "<matplotlib.axes._subplots.AxesSubplot at 0x22b486c9408>"
      ]
     },
     "execution_count": 27,
     "metadata": {},
     "output_type": "execute_result"
    },
    {
     "data": {
      "image/png": "[encoded data removed]",
      "text/plain": [
       "<Figure size 432x288 with 1 Axes>"
      ]
     },
     "metadata": {
      "needs_background": "light"
     },
     "output_type": "display_data"
    }
   ],
   "source": [
    "sns.boxplot(data[\"non-striker\"])"
   ]
  },
  {
   "cell_type": "code",
   "execution_count": 28,
   "metadata": {
    "id": "iY6q7Ein4USi"
   },
   "outputs": [],
   "source": [
    "index=index=data[data[\"non-striker\"]>100].index\n",
    "data.drop(index,inplace=True,axis=0)"
   ]
  },
  {
   "cell_type": "code",
   "execution_count": 29,
   "metadata": {
    "colab": {
     "base_uri": "https://localhost:8080/",
     "height": 352
    },
    "id": "2Qgpc9o44ZEX",
    "outputId": "e85ea382-7e4c-46c8-a948-462cba40f6f4"
   },
   "outputs": [
    {
     "data": {
      "text/plain": [
       "<matplotlib.axes._subplots.AxesSubplot at 0x22b48b90508>"
      ]
     },
     "execution_count": 29,
     "metadata": {},
     "output_type": "execute_result"
    },
    {
     "data": {
      "image/png": "[encoded data removed]",
      "text/plain": [
       "<Figure size 432x288 with 1 Axes>"
      ]
     },
     "metadata": {
      "needs_background": "light"
     },
     "output_type": "display_data"
    }
   ],
   "source": [
    "sns.boxplot(data[\"non-striker\"])"
   ]
  },
  {
   "cell_type": "markdown",
   "metadata": {
    "id": "f2TwMDoq7JnX"
   },
   "source": [
    "# Data Tranformation"
   ]
  },
  {
   "cell_type": "markdown",
   "metadata": {
    "id": "1hTg--nE7PEv"
   },
   "source": [
    "**Use “groupby” operation, to find the average number of runs, scored by each country,and represent it on a bar graph.**"
   ]
  },
  {
   "cell_type": "code",
   "execution_count": null,
   "metadata": {
    "id": "jDqWIk1H7Nl9"
   },
   "outputs": [],
   "source": [
    "country=data.groupby(\"bat_team\")"
   ]
  },
  {
   "cell_type": "code",
   "execution_count": 71,
   "metadata": {
    "colab": {
     "base_uri": "https://localhost:8080/",
     "height": 1000
    },
    "id": "_x4A0HCi7iMJ",
    "outputId": "1b03ffa8-7fbb-44e3-cea4-eb8b4360bc2f"
   },
   "outputs": [
    {
     "data": {
      "text/html": [
       "<div>\n",
       "<style scoped>\n",
       "    .dataframe tbody tr th:only-of-type {\n",
       "        vertical-align: middle;\n",
       "    }\n",
       "\n",
       "    .dataframe tbody tr th {\n",
       "        vertical-align: top;\n",
       "    }\n",
       "\n",
       "    .dataframe thead th {\n",
       "        text-align: right;\n",
       "    }\n",
       "</style>\n",
       "<table border=\"1\" class=\"dataframe\">\n",
       "  <thead>\n",
       "    <tr style=\"text-align: right;\">\n",
       "      <th></th>\n",
       "      <th>mid</th>\n",
       "      <th>date</th>\n",
       "      <th>venue</th>\n",
       "      <th>bowl_team</th>\n",
       "      <th>batsman</th>\n",
       "      <th>bowler</th>\n",
       "      <th>runs</th>\n",
       "      <th>wickets</th>\n",
       "      <th>overs</th>\n",
       "      <th>runs_last_5</th>\n",
       "      <th>wickets_last_5</th>\n",
       "      <th>striker</th>\n",
       "      <th>non-striker</th>\n",
       "      <th>total</th>\n",
       "    </tr>\n",
       "    <tr>\n",
       "      <th>bat_team</th>\n",
       "      <th></th>\n",
       "      <th></th>\n",
       "      <th></th>\n",
       "      <th></th>\n",
       "      <th></th>\n",
       "      <th></th>\n",
       "      <th></th>\n",
       "      <th></th>\n",
       "      <th></th>\n",
       "      <th></th>\n",
       "      <th></th>\n",
       "      <th></th>\n",
       "      <th></th>\n",
       "      <th></th>\n",
       "    </tr>\n",
       "  </thead>\n",
       "  <tbody>\n",
       "    <tr>\n",
       "      <td>Afghanistan</td>\n",
       "      <td>363</td>\n",
       "      <td>2009-04-19</td>\n",
       "      <td>Willowmoore Park</td>\n",
       "      <td>Scotland</td>\n",
       "      <td>Noor Ali Zadran</td>\n",
       "      <td>JAR Blain</td>\n",
       "      <td>0</td>\n",
       "      <td>0</td>\n",
       "      <td>0.1</td>\n",
       "      <td>0</td>\n",
       "      <td>0</td>\n",
       "      <td>0</td>\n",
       "      <td>0</td>\n",
       "      <td>295</td>\n",
       "    </tr>\n",
       "    <tr>\n",
       "      <td>Asia XI</td>\n",
       "      <td>192</td>\n",
       "      <td>2007-06-06</td>\n",
       "      <td>M Chinnaswamy Stadium</td>\n",
       "      <td>Africa XI</td>\n",
       "      <td>ST Jayasuriya</td>\n",
       "      <td>M Morkel</td>\n",
       "      <td>1</td>\n",
       "      <td>0</td>\n",
       "      <td>0.0</td>\n",
       "      <td>1</td>\n",
       "      <td>0</td>\n",
       "      <td>0</td>\n",
       "      <td>0</td>\n",
       "      <td>317</td>\n",
       "    </tr>\n",
       "    <tr>\n",
       "      <td>Australia</td>\n",
       "      <td>10</td>\n",
       "      <td>2006-01-15</td>\n",
       "      <td>Brisbane Cricket Ground, Woolloongabba</td>\n",
       "      <td>South Africa</td>\n",
       "      <td>AC Gilchrist</td>\n",
       "      <td>SM Pollock</td>\n",
       "      <td>0</td>\n",
       "      <td>1</td>\n",
       "      <td>0.1</td>\n",
       "      <td>0</td>\n",
       "      <td>1</td>\n",
       "      <td>0</td>\n",
       "      <td>0</td>\n",
       "      <td>228</td>\n",
       "    </tr>\n",
       "    <tr>\n",
       "      <td>Bangladesh</td>\n",
       "      <td>31</td>\n",
       "      <td>2006-02-20</td>\n",
       "      <td>Shaheed Chandu Stadium</td>\n",
       "      <td>Sri Lanka</td>\n",
       "      <td>Rajin Saleh</td>\n",
       "      <td>PDRL Perera</td>\n",
       "      <td>0</td>\n",
       "      <td>0</td>\n",
       "      <td>0.1</td>\n",
       "      <td>0</td>\n",
       "      <td>0</td>\n",
       "      <td>0</td>\n",
       "      <td>0</td>\n",
       "      <td>118</td>\n",
       "    </tr>\n",
       "    <tr>\n",
       "      <td>Bermuda</td>\n",
       "      <td>173</td>\n",
       "      <td>2006-11-27</td>\n",
       "      <td>Sedgars Park</td>\n",
       "      <td>Canada</td>\n",
       "      <td>KL Tucker</td>\n",
       "      <td>H Osinde</td>\n",
       "      <td>0</td>\n",
       "      <td>0</td>\n",
       "      <td>0.1</td>\n",
       "      <td>0</td>\n",
       "      <td>0</td>\n",
       "      <td>0</td>\n",
       "      <td>0</td>\n",
       "      <td>235</td>\n",
       "    </tr>\n",
       "    <tr>\n",
       "      <td>Canada</td>\n",
       "      <td>181</td>\n",
       "      <td>2007-02-02</td>\n",
       "      <td>Gymkhana Club Ground</td>\n",
       "      <td>Bermuda</td>\n",
       "      <td>AA Mulla</td>\n",
       "      <td>KAD Hurdle</td>\n",
       "      <td>4</td>\n",
       "      <td>0</td>\n",
       "      <td>0.1</td>\n",
       "      <td>4</td>\n",
       "      <td>0</td>\n",
       "      <td>4</td>\n",
       "      <td>0</td>\n",
       "      <td>162</td>\n",
       "    </tr>\n",
       "    <tr>\n",
       "      <td>England</td>\n",
       "      <td>1</td>\n",
       "      <td>2006-06-13</td>\n",
       "      <td>Civil Service Cricket Club, Stormont</td>\n",
       "      <td>Ireland</td>\n",
       "      <td>ME Trescothick</td>\n",
       "      <td>DT Johnston</td>\n",
       "      <td>0</td>\n",
       "      <td>0</td>\n",
       "      <td>0.1</td>\n",
       "      <td>0</td>\n",
       "      <td>0</td>\n",
       "      <td>0</td>\n",
       "      <td>0</td>\n",
       "      <td>301</td>\n",
       "    </tr>\n",
       "    <tr>\n",
       "      <td>Hong Kong</td>\n",
       "      <td>923</td>\n",
       "      <td>2014-05-04</td>\n",
       "      <td>Kinrara Academy Oval</td>\n",
       "      <td>United Arab Emirates</td>\n",
       "      <td>Irfan Ahmed</td>\n",
       "      <td>Mohammad Naveed</td>\n",
       "      <td>1</td>\n",
       "      <td>0</td>\n",
       "      <td>0.0</td>\n",
       "      <td>1</td>\n",
       "      <td>0</td>\n",
       "      <td>0</td>\n",
       "      <td>0</td>\n",
       "      <td>157</td>\n",
       "    </tr>\n",
       "    <tr>\n",
       "      <td>India</td>\n",
       "      <td>41</td>\n",
       "      <td>2006-03-28</td>\n",
       "      <td>Feroz Shah Kotla</td>\n",
       "      <td>England</td>\n",
       "      <td>G Gambhir</td>\n",
       "      <td>JM Anderson</td>\n",
       "      <td>1</td>\n",
       "      <td>0</td>\n",
       "      <td>0.1</td>\n",
       "      <td>1</td>\n",
       "      <td>0</td>\n",
       "      <td>1</td>\n",
       "      <td>0</td>\n",
       "      <td>203</td>\n",
       "    </tr>\n",
       "    <tr>\n",
       "      <td>Ireland</td>\n",
       "      <td>65</td>\n",
       "      <td>2007-03-15</td>\n",
       "      <td>Sabina Park, Kingston</td>\n",
       "      <td>Zimbabwe</td>\n",
       "      <td>WTS Porterfield</td>\n",
       "      <td>CB Mpofu</td>\n",
       "      <td>0</td>\n",
       "      <td>0</td>\n",
       "      <td>0.1</td>\n",
       "      <td>0</td>\n",
       "      <td>0</td>\n",
       "      <td>0</td>\n",
       "      <td>0</td>\n",
       "      <td>221</td>\n",
       "    </tr>\n",
       "    <tr>\n",
       "      <td>Kenya</td>\n",
       "      <td>79</td>\n",
       "      <td>2007-03-24</td>\n",
       "      <td>Beausejour Stadium, Gros Islet</td>\n",
       "      <td>England</td>\n",
       "      <td>MA Ouma</td>\n",
       "      <td>JM Anderson</td>\n",
       "      <td>0</td>\n",
       "      <td>0</td>\n",
       "      <td>0.1</td>\n",
       "      <td>0</td>\n",
       "      <td>0</td>\n",
       "      <td>0</td>\n",
       "      <td>0</td>\n",
       "      <td>177</td>\n",
       "    </tr>\n",
       "    <tr>\n",
       "      <td>Netherlands</td>\n",
       "      <td>174</td>\n",
       "      <td>2006-12-02</td>\n",
       "      <td>Willowmoore Park</td>\n",
       "      <td>Bermuda</td>\n",
       "      <td>B Zuiderent</td>\n",
       "      <td>KAD Hurdle</td>\n",
       "      <td>0</td>\n",
       "      <td>0</td>\n",
       "      <td>0.1</td>\n",
       "      <td>0</td>\n",
       "      <td>0</td>\n",
       "      <td>0</td>\n",
       "      <td>0</td>\n",
       "      <td>91</td>\n",
       "    </tr>\n",
       "    <tr>\n",
       "      <td>New Zealand</td>\n",
       "      <td>22</td>\n",
       "      <td>2006-01-06</td>\n",
       "      <td>Westpac Stadium</td>\n",
       "      <td>Sri Lanka</td>\n",
       "      <td>L Vincent</td>\n",
       "      <td>WPUJC Vaas</td>\n",
       "      <td>0</td>\n",
       "      <td>0</td>\n",
       "      <td>0.1</td>\n",
       "      <td>0</td>\n",
       "      <td>0</td>\n",
       "      <td>0</td>\n",
       "      <td>0</td>\n",
       "      <td>224</td>\n",
       "    </tr>\n",
       "    <tr>\n",
       "      <td>Pakistan</td>\n",
       "      <td>3</td>\n",
       "      <td>2006-09-08</td>\n",
       "      <td>Trent Bridge</td>\n",
       "      <td>England</td>\n",
       "      <td>Mohammad Hafeez</td>\n",
       "      <td>SCJ Broad</td>\n",
       "      <td>0</td>\n",
       "      <td>0</td>\n",
       "      <td>0.1</td>\n",
       "      <td>0</td>\n",
       "      <td>0</td>\n",
       "      <td>0</td>\n",
       "      <td>0</td>\n",
       "      <td>235</td>\n",
       "    </tr>\n",
       "    <tr>\n",
       "      <td>Papua New Guinea</td>\n",
       "      <td>1125</td>\n",
       "      <td>2016-11-06</td>\n",
       "      <td>Mission Road Ground, Mong Kok</td>\n",
       "      <td>Hong Kong</td>\n",
       "      <td>TP Ura</td>\n",
       "      <td>Nadeem Ahmed</td>\n",
       "      <td>0</td>\n",
       "      <td>0</td>\n",
       "      <td>0.1</td>\n",
       "      <td>0</td>\n",
       "      <td>0</td>\n",
       "      <td>0</td>\n",
       "      <td>0</td>\n",
       "      <td>201</td>\n",
       "    </tr>\n",
       "    <tr>\n",
       "      <td>Scotland</td>\n",
       "      <td>73</td>\n",
       "      <td>2007-03-20</td>\n",
       "      <td>Warner Park, Basseterre</td>\n",
       "      <td>South Africa</td>\n",
       "      <td>DF Watts</td>\n",
       "      <td>SM Pollock</td>\n",
       "      <td>0</td>\n",
       "      <td>0</td>\n",
       "      <td>0.1</td>\n",
       "      <td>0</td>\n",
       "      <td>0</td>\n",
       "      <td>0</td>\n",
       "      <td>0</td>\n",
       "      <td>186</td>\n",
       "    </tr>\n",
       "    <tr>\n",
       "      <td>South Africa</td>\n",
       "      <td>18</td>\n",
       "      <td>2006-01-24</td>\n",
       "      <td>Adelaide Oval</td>\n",
       "      <td>Sri Lanka</td>\n",
       "      <td>GC Smith</td>\n",
       "      <td>WPUJC Vaas</td>\n",
       "      <td>0</td>\n",
       "      <td>0</td>\n",
       "      <td>0.1</td>\n",
       "      <td>0</td>\n",
       "      <td>0</td>\n",
       "      <td>0</td>\n",
       "      <td>0</td>\n",
       "      <td>263</td>\n",
       "    </tr>\n",
       "    <tr>\n",
       "      <td>Sri Lanka</td>\n",
       "      <td>5</td>\n",
       "      <td>2006-06-17</td>\n",
       "      <td>Lord's</td>\n",
       "      <td>England</td>\n",
       "      <td>WU Tharanga</td>\n",
       "      <td>SJ Harmison</td>\n",
       "      <td>2</td>\n",
       "      <td>0</td>\n",
       "      <td>0.0</td>\n",
       "      <td>2</td>\n",
       "      <td>0</td>\n",
       "      <td>0</td>\n",
       "      <td>0</td>\n",
       "      <td>257</td>\n",
       "    </tr>\n",
       "    <tr>\n",
       "      <td>United Arab Emirates</td>\n",
       "      <td>807</td>\n",
       "      <td>2015-02-19</td>\n",
       "      <td>Saxton Oval</td>\n",
       "      <td>Zimbabwe</td>\n",
       "      <td>Amjad Ali</td>\n",
       "      <td>T Panyangara</td>\n",
       "      <td>0</td>\n",
       "      <td>0</td>\n",
       "      <td>0.1</td>\n",
       "      <td>0</td>\n",
       "      <td>0</td>\n",
       "      <td>0</td>\n",
       "      <td>0</td>\n",
       "      <td>285</td>\n",
       "    </tr>\n",
       "    <tr>\n",
       "      <td>West Indies</td>\n",
       "      <td>37</td>\n",
       "      <td>2006-02-22</td>\n",
       "      <td>Queenstown Events Centre</td>\n",
       "      <td>New Zealand</td>\n",
       "      <td>CH Gayle</td>\n",
       "      <td>JEC Franklin</td>\n",
       "      <td>0</td>\n",
       "      <td>0</td>\n",
       "      <td>0.1</td>\n",
       "      <td>0</td>\n",
       "      <td>0</td>\n",
       "      <td>0</td>\n",
       "      <td>0</td>\n",
       "      <td>200</td>\n",
       "    </tr>\n",
       "    <tr>\n",
       "      <td>Zimbabwe</td>\n",
       "      <td>52</td>\n",
       "      <td>2006-04-29</td>\n",
       "      <td>Antigua Recreation Ground, St John's</td>\n",
       "      <td>West Indies</td>\n",
       "      <td>HP Rinke</td>\n",
       "      <td>FH Edwards</td>\n",
       "      <td>1</td>\n",
       "      <td>0</td>\n",
       "      <td>0.1</td>\n",
       "      <td>1</td>\n",
       "      <td>0</td>\n",
       "      <td>1</td>\n",
       "      <td>0</td>\n",
       "      <td>151</td>\n",
       "    </tr>\n",
       "  </tbody>\n",
       "</table>\n",
       "</div>"
      ],
      "text/plain": [
       "                       mid        date  \\\n",
       "bat_team                                 \n",
       "Afghanistan            363  2009-04-19   \n",
       "Asia XI                192  2007-06-06   \n",
       "Australia               10  2006-01-15   \n",
       "Bangladesh              31  2006-02-20   \n",
       "Bermuda                173  2006-11-27   \n",
       "Canada                 181  2007-02-02   \n",
       "England                  1  2006-06-13   \n",
       "Hong Kong              923  2014-05-04   \n",
       "India                   41  2006-03-28   \n",
       "Ireland                 65  2007-03-15   \n",
       "Kenya                   79  2007-03-24   \n",
       "Netherlands            174  2006-12-02   \n",
       "New Zealand             22  2006-01-06   \n",
       "Pakistan                 3  2006-09-08   \n",
       "Papua New Guinea      1125  2016-11-06   \n",
       "Scotland                73  2007-03-20   \n",
       "South Africa            18  2006-01-24   \n",
       "Sri Lanka                5  2006-06-17   \n",
       "United Arab Emirates   807  2015-02-19   \n",
       "West Indies             37  2006-02-22   \n",
       "Zimbabwe                52  2006-04-29   \n",
       "\n",
       "                                                       venue  \\\n",
       "bat_team                                                       \n",
       "Afghanistan                                 Willowmoore Park   \n",
       "Asia XI                                M Chinnaswamy Stadium   \n",
       "Australia             Brisbane Cricket Ground, Woolloongabba   \n",
       "Bangladesh                            Shaheed Chandu Stadium   \n",
       "Bermuda                                         Sedgars Park   \n",
       "Canada                                  Gymkhana Club Ground   \n",
       "England                 Civil Service Cricket Club, Stormont   \n",
       "Hong Kong                               Kinrara Academy Oval   \n",
       "India                                       Feroz Shah Kotla   \n",
       "Ireland                                Sabina Park, Kingston   \n",
       "Kenya                         Beausejour Stadium, Gros Islet   \n",
       "Netherlands                                 Willowmoore Park   \n",
       "New Zealand                                  Westpac Stadium   \n",
       "Pakistan                                        Trent Bridge   \n",
       "Papua New Guinea               Mission Road Ground, Mong Kok   \n",
       "Scotland                             Warner Park, Basseterre   \n",
       "South Africa                                   Adelaide Oval   \n",
       "Sri Lanka                                             Lord's   \n",
       "United Arab Emirates                             Saxton Oval   \n",
       "West Indies                         Queenstown Events Centre   \n",
       "Zimbabwe                Antigua Recreation Ground, St John's   \n",
       "\n",
       "                                 bowl_team          batsman           bowler  \\\n",
       "bat_team                                                                       \n",
       "Afghanistan                       Scotland  Noor Ali Zadran        JAR Blain   \n",
       "Asia XI                          Africa XI    ST Jayasuriya         M Morkel   \n",
       "Australia                     South Africa     AC Gilchrist       SM Pollock   \n",
       "Bangladesh                       Sri Lanka      Rajin Saleh      PDRL Perera   \n",
       "Bermuda                             Canada        KL Tucker         H Osinde   \n",
       "Canada                             Bermuda         AA Mulla       KAD Hurdle   \n",
       "England                            Ireland   ME Trescothick      DT Johnston   \n",
       "Hong Kong             United Arab Emirates      Irfan Ahmed  Mohammad Naveed   \n",
       "India                              England        G Gambhir      JM Anderson   \n",
       "Ireland                           Zimbabwe  WTS Porterfield         CB Mpofu   \n",
       "Kenya                              England          MA Ouma      JM Anderson   \n",
       "Netherlands                        Bermuda      B Zuiderent       KAD Hurdle   \n",
       "New Zealand                      Sri Lanka        L Vincent       WPUJC Vaas   \n",
       "Pakistan                           England  Mohammad Hafeez        SCJ Broad   \n",
       "Papua New Guinea                 Hong Kong           TP Ura     Nadeem Ahmed   \n",
       "Scotland                      South Africa         DF Watts       SM Pollock   \n",
       "South Africa                     Sri Lanka         GC Smith       WPUJC Vaas   \n",
       "Sri Lanka                          England      WU Tharanga      SJ Harmison   \n",
       "United Arab Emirates              Zimbabwe        Amjad Ali     T Panyangara   \n",
       "West Indies                    New Zealand         CH Gayle     JEC Franklin   \n",
       "Zimbabwe                       West Indies         HP Rinke       FH Edwards   \n",
       "\n",
       "                      runs  wickets  overs  runs_last_5  wickets_last_5  \\\n",
       "bat_team                                                                  \n",
       "Afghanistan              0        0    0.1            0               0   \n",
       "Asia XI                  1        0    0.0            1               0   \n",
       "Australia                0        1    0.1            0               1   \n",
       "Bangladesh               0        0    0.1            0               0   \n",
       "Bermuda                  0        0    0.1            0               0   \n",
       "Canada                   4        0    0.1            4               0   \n",
       "England                  0        0    0.1            0               0   \n",
       "Hong Kong                1        0    0.0            1               0   \n",
       "India                    1        0    0.1            1               0   \n",
       "Ireland                  0        0    0.1            0               0   \n",
       "Kenya                    0        0    0.1            0               0   \n",
       "Netherlands              0        0    0.1            0               0   \n",
       "New Zealand              0        0    0.1            0               0   \n",
       "Pakistan                 0        0    0.1            0               0   \n",
       "Papua New Guinea         0        0    0.1            0               0   \n",
       "Scotland                 0        0    0.1            0               0   \n",
       "South Africa             0        0    0.1            0               0   \n",
       "Sri Lanka                2        0    0.0            2               0   \n",
       "United Arab Emirates     0        0    0.1            0               0   \n",
       "West Indies              0        0    0.1            0               0   \n",
       "Zimbabwe                 1        0    0.1            1               0   \n",
       "\n",
       "                      striker  non-striker  total  \n",
       "bat_team                                           \n",
       "Afghanistan                 0            0    295  \n",
       "Asia XI                     0            0    317  \n",
       "Australia                   0            0    228  \n",
       "Bangladesh                  0            0    118  \n",
       "Bermuda                     0            0    235  \n",
       "Canada                      4            0    162  \n",
       "England                     0            0    301  \n",
       "Hong Kong                   0            0    157  \n",
       "India                       1            0    203  \n",
       "Ireland                     0            0    221  \n",
       "Kenya                       0            0    177  \n",
       "Netherlands                 0            0     91  \n",
       "New Zealand                 0            0    224  \n",
       "Pakistan                    0            0    235  \n",
       "Papua New Guinea            0            0    201  \n",
       "Scotland                    0            0    186  \n",
       "South Africa                0            0    263  \n",
       "Sri Lanka                   0            0    257  \n",
       "United Arab Emirates        0            0    285  \n",
       "West Indies                 0            0    200  \n",
       "Zimbabwe                    1            0    151  "
      ]
     },
     "execution_count": 71,
     "metadata": {},
     "output_type": "execute_result"
    }
   ],
   "source": [
    "country.first()"
   ]
  },
  {
   "cell_type": "code",
   "execution_count": null,
   "metadata": {
    "colab": {
     "base_uri": "https://localhost:8080/",
     "height": 105
    },
    "id": "e9RYTgyP7p_j",
    "outputId": "b7dae49c-3074-408f-d3e7-3817a9b8d3d1"
   },
   "outputs": [],
   "source": [
    "all_teams=df.bat_team.unique()\n",
    "all_teams\n"
   ]
  },
  {
   "cell_type": "code",
   "execution_count": 73,
   "metadata": {
    "id": "4N0NEiRj9Tq8"
   },
   "outputs": [],
   "source": [
    "avg_runs=[]\n",
    "for i in all_teams:\n",
    "  t=country.get_group(i)\n",
    "  avg=np.mean(t[\"total\"])\n",
    "  avg_runs.append(avg)\n"
   ]
  },
  {
   "cell_type": "code",
   "execution_count": 74,
   "metadata": {
    "colab": {
     "base_uri": "https://localhost:8080/",
     "height": 390
    },
    "id": "lss7U70o9W5K",
    "outputId": "e3f6e5f3-0ad2-44a8-db35-31d0445a7c72"
   },
   "outputs": [
    {
     "data": {
      "text/plain": [
       "[267.40873442540004,\n",
       " 258.1258224745194,\n",
       " 255.30884134033104,\n",
       " 275.6533574088703,\n",
       " 282.91939977206533,\n",
       " 269.08046755886835,\n",
       " 233.2364039955605,\n",
       " 238.38393588141508,\n",
       " 278.1806680622554,\n",
       " 207.6656954156954,\n",
       " 230.53591914777382,\n",
       " 225.1891891891892,\n",
       " 183.72115047351807,\n",
       " 189.38777908343127,\n",
       " 205.2304761904762,\n",
       " 200.2617305208782,\n",
       " 328.3915857605178,\n",
       " 232.5289815817985,\n",
       " 227.79555084745763,\n",
       " 227.62273901808786,\n",
       " 201.0]"
      ]
     },
     "execution_count": 74,
     "metadata": {},
     "output_type": "execute_result"
    }
   ],
   "source": [
    "\n",
    "avg_runs\n"
   ]
  },
  {
   "cell_type": "code",
   "execution_count": 75,
   "metadata": {
    "colab": {
     "base_uri": "https://localhost:8080/",
     "height": 458
    },
    "id": "n976In5wLeI2",
    "outputId": "5fbcf64e-213c-45dd-ec54-02fe29161328"
   },
   "outputs": [
    {
     "data": {
      "text/plain": [
       "<matplotlib.axes._subplots.AxesSubplot at 0x1ca00b50908>"
      ]
     },
     "execution_count": 75,
     "metadata": {},
     "output_type": "execute_result"
    },
    {
     "data": {
      "image/png": "[encoded data removed]",
      "text/plain": [
       "<Figure size 1490.4x595.44 with 1 Axes>"
      ]
     },
     "metadata": {},
     "output_type": "display_data"
    }
   ],
   "source": [
    "sns.set(rc={'figure.figsize':(20,10)})\n",
    "sns.barplot(x=country,y=avg_runs)\n"
   ]
  },
  {
   "cell_type": "code",
   "execution_count": 76,
   "metadata": {
    "colab": {
     "base_uri": "https://localhost:8080/",
     "height": 317
    },
    "id": "YVyxOJfFNOxt",
    "outputId": "e509c4f0-0ad5-4b93-cbaf-bdc15f65f31b"
   },
   "outputs": [
    {
     "data": {
      "text/html": [
       "<div>\n",
       "<style scoped>\n",
       "    .dataframe tbody tr th:only-of-type {\n",
       "        vertical-align: middle;\n",
       "    }\n",
       "\n",
       "    .dataframe tbody tr th {\n",
       "        vertical-align: top;\n",
       "    }\n",
       "\n",
       "    .dataframe thead th {\n",
       "        text-align: right;\n",
       "    }\n",
       "</style>\n",
       "<table border=\"1\" class=\"dataframe\">\n",
       "  <thead>\n",
       "    <tr style=\"text-align: right;\">\n",
       "      <th></th>\n",
       "      <th>mid</th>\n",
       "      <th>runs</th>\n",
       "      <th>wickets</th>\n",
       "      <th>overs</th>\n",
       "      <th>runs_last_5</th>\n",
       "      <th>wickets_last_5</th>\n",
       "      <th>striker</th>\n",
       "      <th>non-striker</th>\n",
       "      <th>total</th>\n",
       "    </tr>\n",
       "  </thead>\n",
       "  <tbody>\n",
       "    <tr>\n",
       "      <td>mid</td>\n",
       "      <td>1.000000</td>\n",
       "      <td>0.036731</td>\n",
       "      <td>-0.023657</td>\n",
       "      <td>0.006076</td>\n",
       "      <td>0.063483</td>\n",
       "      <td>-0.004773</td>\n",
       "      <td>0.060450</td>\n",
       "      <td>0.038389</td>\n",
       "      <td>0.116647</td>\n",
       "    </tr>\n",
       "    <tr>\n",
       "      <td>runs</td>\n",
       "      <td>0.036731</td>\n",
       "      <td>1.000000</td>\n",
       "      <td>0.606640</td>\n",
       "      <td>0.933619</td>\n",
       "      <td>0.652177</td>\n",
       "      <td>0.197164</td>\n",
       "      <td>0.588531</td>\n",
       "      <td>0.287586</td>\n",
       "      <td>0.329847</td>\n",
       "    </tr>\n",
       "    <tr>\n",
       "      <td>wickets</td>\n",
       "      <td>-0.023657</td>\n",
       "      <td>0.606640</td>\n",
       "      <td>1.000000</td>\n",
       "      <td>0.756556</td>\n",
       "      <td>0.187831</td>\n",
       "      <td>0.460702</td>\n",
       "      <td>0.098652</td>\n",
       "      <td>-0.149173</td>\n",
       "      <td>-0.275170</td>\n",
       "    </tr>\n",
       "    <tr>\n",
       "      <td>overs</td>\n",
       "      <td>0.006076</td>\n",
       "      <td>0.933619</td>\n",
       "      <td>0.756556</td>\n",
       "      <td>1.000000</td>\n",
       "      <td>0.507694</td>\n",
       "      <td>0.214642</td>\n",
       "      <td>0.515009</td>\n",
       "      <td>0.228308</td>\n",
       "      <td>0.108849</td>\n",
       "    </tr>\n",
       "    <tr>\n",
       "      <td>runs_last_5</td>\n",
       "      <td>0.063483</td>\n",
       "      <td>0.652177</td>\n",
       "      <td>0.187831</td>\n",
       "      <td>0.507694</td>\n",
       "      <td>1.000000</td>\n",
       "      <td>-0.021955</td>\n",
       "      <td>0.563564</td>\n",
       "      <td>0.439409</td>\n",
       "      <td>0.425381</td>\n",
       "    </tr>\n",
       "    <tr>\n",
       "      <td>wickets_last_5</td>\n",
       "      <td>-0.004773</td>\n",
       "      <td>0.197164</td>\n",
       "      <td>0.460702</td>\n",
       "      <td>0.214642</td>\n",
       "      <td>-0.021955</td>\n",
       "      <td>1.000000</td>\n",
       "      <td>-0.195583</td>\n",
       "      <td>-0.474601</td>\n",
       "      <td>-0.175534</td>\n",
       "    </tr>\n",
       "    <tr>\n",
       "      <td>striker</td>\n",
       "      <td>0.060450</td>\n",
       "      <td>0.588531</td>\n",
       "      <td>0.098652</td>\n",
       "      <td>0.515009</td>\n",
       "      <td>0.563564</td>\n",
       "      <td>-0.195583</td>\n",
       "      <td>1.000000</td>\n",
       "      <td>0.539553</td>\n",
       "      <td>0.365565</td>\n",
       "    </tr>\n",
       "    <tr>\n",
       "      <td>non-striker</td>\n",
       "      <td>0.038389</td>\n",
       "      <td>0.287586</td>\n",
       "      <td>-0.149173</td>\n",
       "      <td>0.228308</td>\n",
       "      <td>0.439409</td>\n",
       "      <td>-0.474601</td>\n",
       "      <td>0.539553</td>\n",
       "      <td>1.000000</td>\n",
       "      <td>0.311963</td>\n",
       "    </tr>\n",
       "    <tr>\n",
       "      <td>total</td>\n",
       "      <td>0.116647</td>\n",
       "      <td>0.329847</td>\n",
       "      <td>-0.275170</td>\n",
       "      <td>0.108849</td>\n",
       "      <td>0.425381</td>\n",
       "      <td>-0.175534</td>\n",
       "      <td>0.365565</td>\n",
       "      <td>0.311963</td>\n",
       "      <td>1.000000</td>\n",
       "    </tr>\n",
       "  </tbody>\n",
       "</table>\n",
       "</div>"
      ],
      "text/plain": [
       "                     mid      runs   wickets     overs  runs_last_5  \\\n",
       "mid             1.000000  0.036731 -0.023657  0.006076     0.063483   \n",
       "runs            0.036731  1.000000  0.606640  0.933619     0.652177   \n",
       "wickets        -0.023657  0.606640  1.000000  0.756556     0.187831   \n",
       "overs           0.006076  0.933619  0.756556  1.000000     0.507694   \n",
       "runs_last_5     0.063483  0.652177  0.187831  0.507694     1.000000   \n",
       "wickets_last_5 -0.004773  0.197164  0.460702  0.214642    -0.021955   \n",
       "striker         0.060450  0.588531  0.098652  0.515009     0.563564   \n",
       "non-striker     0.038389  0.287586 -0.149173  0.228308     0.439409   \n",
       "total           0.116647  0.329847 -0.275170  0.108849     0.425381   \n",
       "\n",
       "                wickets_last_5   striker  non-striker     total  \n",
       "mid                  -0.004773  0.060450     0.038389  0.116647  \n",
       "runs                  0.197164  0.588531     0.287586  0.329847  \n",
       "wickets               0.460702  0.098652    -0.149173 -0.275170  \n",
       "overs                 0.214642  0.515009     0.228308  0.108849  \n",
       "runs_last_5          -0.021955  0.563564     0.439409  0.425381  \n",
       "wickets_last_5        1.000000 -0.195583    -0.474601 -0.175534  \n",
       "striker              -0.195583  1.000000     0.539553  0.365565  \n",
       "non-striker          -0.474601  0.539553     1.000000  0.311963  \n",
       "total                -0.175534  0.365565     0.311963  1.000000  "
      ]
     },
     "execution_count": 76,
     "metadata": {},
     "output_type": "execute_result"
    }
   ],
   "source": [
    "data.corr()"
   ]
  },
  {
   "cell_type": "code",
   "execution_count": 77,
   "metadata": {
    "colab": {
     "base_uri": "https://localhost:8080/",
     "height": 493
    },
    "id": "L8qNv1dTN1F2",
    "outputId": "8429bba9-9b0b-4ee1-c165-7f5dc1199aad"
   },
   "outputs": [
    {
     "data": {
      "text/plain": [
       "<matplotlib.axes._subplots.AxesSubplot at 0x1ca011a3088>"
      ]
     },
     "execution_count": 77,
     "metadata": {},
     "output_type": "execute_result"
    },
    {
     "data": {
      "image/png": "[encoded data removed]",
      "text/plain": [
       "<Figure size 1490.4x595.44 with 2 Axes>"
      ]
     },
     "metadata": {},
     "output_type": "display_data"
    }
   ],
   "source": [
    "sns.heatmap(data.corr(),annot=True)"
   ]
  },
  {
   "cell_type": "markdown",
   "metadata": {
    "id": "Wu7LFC04Ovka"
   },
   "source": [
    "we can remove overs and mid from the dataframe and take runs,wickets,runs_last_5,wickets_last_five,striker,non_stricker as our featur variables"
   ]
  },
  {
   "cell_type": "code",
   "execution_count": 78,
   "metadata": {
    "colab": {
     "base_uri": "https://localhost:8080/",
     "height": 840
    },
    "id": "Jw1lCrloOu16",
    "outputId": "06798152-be84-4ea1-82a3-27f85d50e2d9"
   },
   "outputs": [
    {
     "data": {
      "text/html": [
       "<div>\n",
       "<style scoped>\n",
       "    .dataframe tbody tr th:only-of-type {\n",
       "        vertical-align: middle;\n",
       "    }\n",
       "\n",
       "    .dataframe tbody tr th {\n",
       "        vertical-align: top;\n",
       "    }\n",
       "\n",
       "    .dataframe thead th {\n",
       "        text-align: right;\n",
       "    }\n",
       "</style>\n",
       "<table border=\"1\" class=\"dataframe\">\n",
       "  <thead>\n",
       "    <tr style=\"text-align: right;\">\n",
       "      <th></th>\n",
       "      <th>date</th>\n",
       "      <th>venue</th>\n",
       "      <th>bat_team</th>\n",
       "      <th>bowl_team</th>\n",
       "      <th>batsman</th>\n",
       "      <th>bowler</th>\n",
       "      <th>runs</th>\n",
       "      <th>wickets</th>\n",
       "      <th>runs_last_5</th>\n",
       "      <th>wickets_last_5</th>\n",
       "      <th>striker</th>\n",
       "      <th>non-striker</th>\n",
       "      <th>total</th>\n",
       "    </tr>\n",
       "  </thead>\n",
       "  <tbody>\n",
       "    <tr>\n",
       "      <td>0</td>\n",
       "      <td>2006-06-13</td>\n",
       "      <td>Civil Service Cricket Club, Stormont</td>\n",
       "      <td>England</td>\n",
       "      <td>Ireland</td>\n",
       "      <td>ME Trescothick</td>\n",
       "      <td>DT Johnston</td>\n",
       "      <td>0</td>\n",
       "      <td>0</td>\n",
       "      <td>0</td>\n",
       "      <td>0</td>\n",
       "      <td>0</td>\n",
       "      <td>0</td>\n",
       "      <td>301</td>\n",
       "    </tr>\n",
       "    <tr>\n",
       "      <td>1</td>\n",
       "      <td>2006-06-13</td>\n",
       "      <td>Civil Service Cricket Club, Stormont</td>\n",
       "      <td>England</td>\n",
       "      <td>Ireland</td>\n",
       "      <td>ME Trescothick</td>\n",
       "      <td>DT Johnston</td>\n",
       "      <td>0</td>\n",
       "      <td>0</td>\n",
       "      <td>0</td>\n",
       "      <td>0</td>\n",
       "      <td>0</td>\n",
       "      <td>0</td>\n",
       "      <td>301</td>\n",
       "    </tr>\n",
       "    <tr>\n",
       "      <td>2</td>\n",
       "      <td>2006-06-13</td>\n",
       "      <td>Civil Service Cricket Club, Stormont</td>\n",
       "      <td>England</td>\n",
       "      <td>Ireland</td>\n",
       "      <td>ME Trescothick</td>\n",
       "      <td>DT Johnston</td>\n",
       "      <td>4</td>\n",
       "      <td>0</td>\n",
       "      <td>4</td>\n",
       "      <td>0</td>\n",
       "      <td>0</td>\n",
       "      <td>0</td>\n",
       "      <td>301</td>\n",
       "    </tr>\n",
       "    <tr>\n",
       "      <td>3</td>\n",
       "      <td>2006-06-13</td>\n",
       "      <td>Civil Service Cricket Club, Stormont</td>\n",
       "      <td>England</td>\n",
       "      <td>Ireland</td>\n",
       "      <td>ME Trescothick</td>\n",
       "      <td>DT Johnston</td>\n",
       "      <td>6</td>\n",
       "      <td>0</td>\n",
       "      <td>6</td>\n",
       "      <td>0</td>\n",
       "      <td>0</td>\n",
       "      <td>0</td>\n",
       "      <td>301</td>\n",
       "    </tr>\n",
       "    <tr>\n",
       "      <td>4</td>\n",
       "      <td>2006-06-13</td>\n",
       "      <td>Civil Service Cricket Club, Stormont</td>\n",
       "      <td>England</td>\n",
       "      <td>Ireland</td>\n",
       "      <td>ME Trescothick</td>\n",
       "      <td>DT Johnston</td>\n",
       "      <td>6</td>\n",
       "      <td>0</td>\n",
       "      <td>6</td>\n",
       "      <td>0</td>\n",
       "      <td>0</td>\n",
       "      <td>0</td>\n",
       "      <td>301</td>\n",
       "    </tr>\n",
       "    <tr>\n",
       "      <td>...</td>\n",
       "      <td>...</td>\n",
       "      <td>...</td>\n",
       "      <td>...</td>\n",
       "      <td>...</td>\n",
       "      <td>...</td>\n",
       "      <td>...</td>\n",
       "      <td>...</td>\n",
       "      <td>...</td>\n",
       "      <td>...</td>\n",
       "      <td>...</td>\n",
       "      <td>...</td>\n",
       "      <td>...</td>\n",
       "      <td>...</td>\n",
       "    </tr>\n",
       "    <tr>\n",
       "      <td>350894</td>\n",
       "      <td>2017-07-10</td>\n",
       "      <td>Mahinda Rajapaksa International Cricket Stadiu...</td>\n",
       "      <td>Sri Lanka</td>\n",
       "      <td>Zimbabwe</td>\n",
       "      <td>DAS Gunaratne</td>\n",
       "      <td>TL Chatara</td>\n",
       "      <td>201</td>\n",
       "      <td>8</td>\n",
       "      <td>39</td>\n",
       "      <td>0</td>\n",
       "      <td>59</td>\n",
       "      <td>18</td>\n",
       "      <td>203</td>\n",
       "    </tr>\n",
       "    <tr>\n",
       "      <td>350895</td>\n",
       "      <td>2017-07-10</td>\n",
       "      <td>Mahinda Rajapaksa International Cricket Stadiu...</td>\n",
       "      <td>Sri Lanka</td>\n",
       "      <td>Zimbabwe</td>\n",
       "      <td>DAS Gunaratne</td>\n",
       "      <td>TL Chatara</td>\n",
       "      <td>201</td>\n",
       "      <td>8</td>\n",
       "      <td>39</td>\n",
       "      <td>0</td>\n",
       "      <td>59</td>\n",
       "      <td>18</td>\n",
       "      <td>203</td>\n",
       "    </tr>\n",
       "    <tr>\n",
       "      <td>350896</td>\n",
       "      <td>2017-07-10</td>\n",
       "      <td>Mahinda Rajapaksa International Cricket Stadiu...</td>\n",
       "      <td>Sri Lanka</td>\n",
       "      <td>Zimbabwe</td>\n",
       "      <td>DAS Gunaratne</td>\n",
       "      <td>TL Chatara</td>\n",
       "      <td>201</td>\n",
       "      <td>8</td>\n",
       "      <td>38</td>\n",
       "      <td>0</td>\n",
       "      <td>59</td>\n",
       "      <td>18</td>\n",
       "      <td>203</td>\n",
       "    </tr>\n",
       "    <tr>\n",
       "      <td>350897</td>\n",
       "      <td>2017-07-10</td>\n",
       "      <td>Mahinda Rajapaksa International Cricket Stadiu...</td>\n",
       "      <td>Sri Lanka</td>\n",
       "      <td>Zimbabwe</td>\n",
       "      <td>DAS Gunaratne</td>\n",
       "      <td>TL Chatara</td>\n",
       "      <td>202</td>\n",
       "      <td>8</td>\n",
       "      <td>38</td>\n",
       "      <td>0</td>\n",
       "      <td>59</td>\n",
       "      <td>18</td>\n",
       "      <td>203</td>\n",
       "    </tr>\n",
       "    <tr>\n",
       "      <td>350898</td>\n",
       "      <td>2017-07-10</td>\n",
       "      <td>Mahinda Rajapaksa International Cricket Stadiu...</td>\n",
       "      <td>Sri Lanka</td>\n",
       "      <td>Zimbabwe</td>\n",
       "      <td>PVD Chameera</td>\n",
       "      <td>TL Chatara</td>\n",
       "      <td>203</td>\n",
       "      <td>8</td>\n",
       "      <td>38</td>\n",
       "      <td>0</td>\n",
       "      <td>59</td>\n",
       "      <td>18</td>\n",
       "      <td>203</td>\n",
       "    </tr>\n",
       "  </tbody>\n",
       "</table>\n",
       "<p>344058 rows × 13 columns</p>\n",
       "</div>"
      ],
      "text/plain": [
       "              date                                              venue  \\\n",
       "0       2006-06-13               Civil Service Cricket Club, Stormont   \n",
       "1       2006-06-13               Civil Service Cricket Club, Stormont   \n",
       "2       2006-06-13               Civil Service Cricket Club, Stormont   \n",
       "3       2006-06-13               Civil Service Cricket Club, Stormont   \n",
       "4       2006-06-13               Civil Service Cricket Club, Stormont   \n",
       "...            ...                                                ...   \n",
       "350894  2017-07-10  Mahinda Rajapaksa International Cricket Stadiu...   \n",
       "350895  2017-07-10  Mahinda Rajapaksa International Cricket Stadiu...   \n",
       "350896  2017-07-10  Mahinda Rajapaksa International Cricket Stadiu...   \n",
       "350897  2017-07-10  Mahinda Rajapaksa International Cricket Stadiu...   \n",
       "350898  2017-07-10  Mahinda Rajapaksa International Cricket Stadiu...   \n",
       "\n",
       "         bat_team bowl_team         batsman       bowler  runs  wickets  \\\n",
       "0         England   Ireland  ME Trescothick  DT Johnston     0        0   \n",
       "1         England   Ireland  ME Trescothick  DT Johnston     0        0   \n",
       "2         England   Ireland  ME Trescothick  DT Johnston     4        0   \n",
       "3         England   Ireland  ME Trescothick  DT Johnston     6        0   \n",
       "4         England   Ireland  ME Trescothick  DT Johnston     6        0   \n",
       "...           ...       ...             ...          ...   ...      ...   \n",
       "350894  Sri Lanka  Zimbabwe   DAS Gunaratne   TL Chatara   201        8   \n",
       "350895  Sri Lanka  Zimbabwe   DAS Gunaratne   TL Chatara   201        8   \n",
       "350896  Sri Lanka  Zimbabwe   DAS Gunaratne   TL Chatara   201        8   \n",
       "350897  Sri Lanka  Zimbabwe   DAS Gunaratne   TL Chatara   202        8   \n",
       "350898  Sri Lanka  Zimbabwe    PVD Chameera   TL Chatara   203        8   \n",
       "\n",
       "        runs_last_5  wickets_last_5  striker  non-striker  total  \n",
       "0                 0               0        0            0    301  \n",
       "1                 0               0        0            0    301  \n",
       "2                 4               0        0            0    301  \n",
       "3                 6               0        0            0    301  \n",
       "4                 6               0        0            0    301  \n",
       "...             ...             ...      ...          ...    ...  \n",
       "350894           39               0       59           18    203  \n",
       "350895           39               0       59           18    203  \n",
       "350896           38               0       59           18    203  \n",
       "350897           38               0       59           18    203  \n",
       "350898           38               0       59           18    203  \n",
       "\n",
       "[344058 rows x 13 columns]"
      ]
     },
     "execution_count": 78,
     "metadata": {},
     "output_type": "execute_result"
    }
   ],
   "source": [
    "data.drop(['mid','overs'],axis=1)"
   ]
  },
  {
   "cell_type": "markdown",
   "metadata": {
    "id": "WN5Hg9jATF-D"
   },
   "source": [
    "## testing and training dataset"
   ]
  },
  {
   "cell_type": "code",
   "execution_count": 79,
   "metadata": {
    "colab": {
     "base_uri": "https://localhost:8080/",
     "height": 406
    },
    "id": "bVnjnEAKRTEF",
    "outputId": "fe383225-c75f-4414-c2d8-94224612c55d"
   },
   "outputs": [
    {
     "data": {
      "text/html": [
       "<div>\n",
       "<style scoped>\n",
       "    .dataframe tbody tr th:only-of-type {\n",
       "        vertical-align: middle;\n",
       "    }\n",
       "\n",
       "    .dataframe tbody tr th {\n",
       "        vertical-align: top;\n",
       "    }\n",
       "\n",
       "    .dataframe thead th {\n",
       "        text-align: right;\n",
       "    }\n",
       "</style>\n",
       "<table border=\"1\" class=\"dataframe\">\n",
       "  <thead>\n",
       "    <tr style=\"text-align: right;\">\n",
       "      <th></th>\n",
       "      <th>runs</th>\n",
       "      <th>wickets</th>\n",
       "      <th>runs_last_5</th>\n",
       "      <th>wickets_last_5</th>\n",
       "      <th>striker</th>\n",
       "      <th>non-striker</th>\n",
       "    </tr>\n",
       "  </thead>\n",
       "  <tbody>\n",
       "    <tr>\n",
       "      <td>0</td>\n",
       "      <td>0</td>\n",
       "      <td>0</td>\n",
       "      <td>0</td>\n",
       "      <td>0</td>\n",
       "      <td>0</td>\n",
       "      <td>0</td>\n",
       "    </tr>\n",
       "    <tr>\n",
       "      <td>1</td>\n",
       "      <td>0</td>\n",
       "      <td>0</td>\n",
       "      <td>0</td>\n",
       "      <td>0</td>\n",
       "      <td>0</td>\n",
       "      <td>0</td>\n",
       "    </tr>\n",
       "    <tr>\n",
       "      <td>2</td>\n",
       "      <td>4</td>\n",
       "      <td>0</td>\n",
       "      <td>4</td>\n",
       "      <td>0</td>\n",
       "      <td>0</td>\n",
       "      <td>0</td>\n",
       "    </tr>\n",
       "    <tr>\n",
       "      <td>3</td>\n",
       "      <td>6</td>\n",
       "      <td>0</td>\n",
       "      <td>6</td>\n",
       "      <td>0</td>\n",
       "      <td>0</td>\n",
       "      <td>0</td>\n",
       "    </tr>\n",
       "    <tr>\n",
       "      <td>4</td>\n",
       "      <td>6</td>\n",
       "      <td>0</td>\n",
       "      <td>6</td>\n",
       "      <td>0</td>\n",
       "      <td>0</td>\n",
       "      <td>0</td>\n",
       "    </tr>\n",
       "    <tr>\n",
       "      <td>...</td>\n",
       "      <td>...</td>\n",
       "      <td>...</td>\n",
       "      <td>...</td>\n",
       "      <td>...</td>\n",
       "      <td>...</td>\n",
       "      <td>...</td>\n",
       "    </tr>\n",
       "    <tr>\n",
       "      <td>350894</td>\n",
       "      <td>201</td>\n",
       "      <td>8</td>\n",
       "      <td>39</td>\n",
       "      <td>0</td>\n",
       "      <td>59</td>\n",
       "      <td>18</td>\n",
       "    </tr>\n",
       "    <tr>\n",
       "      <td>350895</td>\n",
       "      <td>201</td>\n",
       "      <td>8</td>\n",
       "      <td>39</td>\n",
       "      <td>0</td>\n",
       "      <td>59</td>\n",
       "      <td>18</td>\n",
       "    </tr>\n",
       "    <tr>\n",
       "      <td>350896</td>\n",
       "      <td>201</td>\n",
       "      <td>8</td>\n",
       "      <td>38</td>\n",
       "      <td>0</td>\n",
       "      <td>59</td>\n",
       "      <td>18</td>\n",
       "    </tr>\n",
       "    <tr>\n",
       "      <td>350897</td>\n",
       "      <td>202</td>\n",
       "      <td>8</td>\n",
       "      <td>38</td>\n",
       "      <td>0</td>\n",
       "      <td>59</td>\n",
       "      <td>18</td>\n",
       "    </tr>\n",
       "    <tr>\n",
       "      <td>350898</td>\n",
       "      <td>203</td>\n",
       "      <td>8</td>\n",
       "      <td>38</td>\n",
       "      <td>0</td>\n",
       "      <td>59</td>\n",
       "      <td>18</td>\n",
       "    </tr>\n",
       "  </tbody>\n",
       "</table>\n",
       "<p>344058 rows × 6 columns</p>\n",
       "</div>"
      ],
      "text/plain": [
       "        runs  wickets  runs_last_5  wickets_last_5  striker  non-striker\n",
       "0          0        0            0               0        0            0\n",
       "1          0        0            0               0        0            0\n",
       "2          4        0            4               0        0            0\n",
       "3          6        0            6               0        0            0\n",
       "4          6        0            6               0        0            0\n",
       "...      ...      ...          ...             ...      ...          ...\n",
       "350894   201        8           39               0       59           18\n",
       "350895   201        8           39               0       59           18\n",
       "350896   201        8           38               0       59           18\n",
       "350897   202        8           38               0       59           18\n",
       "350898   203        8           38               0       59           18\n",
       "\n",
       "[344058 rows x 6 columns]"
      ]
     },
     "execution_count": 79,
     "metadata": {},
     "output_type": "execute_result"
    }
   ],
   "source": [
    "x=data[['runs','wickets','runs_last_5','wickets_last_5','striker','non-striker']] \n",
    "x #independent variables"
   ]
  },
  {
   "cell_type": "code",
   "execution_count": 80,
   "metadata": {
    "colab": {
     "base_uri": "https://localhost:8080/",
     "height": 230
    },
    "id": "SqtavoWqSkkt",
    "outputId": "3105e006-9260-408b-bd06-928fe4e08ba8"
   },
   "outputs": [
    {
     "data": {
      "text/plain": [
       "0         301\n",
       "1         301\n",
       "2         301\n",
       "3         301\n",
       "4         301\n",
       "         ... \n",
       "350894    203\n",
       "350895    203\n",
       "350896    203\n",
       "350897    203\n",
       "350898    203\n",
       "Name: total, Length: 344058, dtype: int64"
      ]
     },
     "execution_count": 80,
     "metadata": {},
     "output_type": "execute_result"
    }
   ],
   "source": [
    "y=data['total']\n",
    "y         #dependent variable"
   ]
  },
  {
   "cell_type": "markdown",
   "metadata": {
    "id": "2sxX1q3LTbmA"
   },
   "source": [
    "creating training and testing data"
   ]
  },
  {
   "cell_type": "code",
   "execution_count": 81,
   "metadata": {
    "colab": {
     "base_uri": "https://localhost:8080/",
     "height": 230
    },
    "id": "9Za3GEbeT55Q",
    "outputId": "68d20ee2-8b40-407b-cea1-e200695c2569"
   },
   "outputs": [
    {
     "data": {
      "text/plain": [
       "258045    180\n",
       "282725    267\n",
       "282551    267\n",
       "64176     137\n",
       "197430    236\n",
       "         ... \n",
       "125085    245\n",
       "310263    271\n",
       "155321    279\n",
       "120348    200\n",
       "311848    188\n",
       "Name: total, Length: 275246, dtype: int64"
      ]
     },
     "execution_count": 81,
     "metadata": {},
     "output_type": "execute_result"
    }
   ],
   "source": [
    "from sklearn.model_selection import train_test_split\n",
    "x_train, x_test, y_train, y_test = train_test_split(x, y, test_size = 0.2, random_state = 0)\n",
    "y_train"
   ]
  },
  {
   "cell_type": "markdown",
   "metadata": {
    "id": "m5iVffHJSu1C"
   },
   "source": [
    "# linear Regression model"
   ]
  },
  {
   "cell_type": "code",
   "execution_count": 38,
   "metadata": {
    "colab": {
     "base_uri": "https://localhost:8080/",
     "height": 70
    },
    "id": "S5afVqR_SzRD",
    "outputId": "a40fc931-35ed-4b6c-f4fa-c33fa7facaf5"
   },
   "outputs": [
    {
     "name": "stdout",
     "output_type": "stream",
     "text": [
      "Coefficients:  [  0.59141    -21.42261848   0.72767746  -0.3633703   -0.09917988\n",
      "  -0.19798247]\n",
      "intercept 239.80840526725277\n"
     ]
    }
   ],
   "source": [
    "from sklearn import linear_model\n",
    "regr = linear_model.LinearRegression()\n",
    "regr.fit (x_train, y_train)\n",
    "# The coefficients\n",
    "print ('Coefficients: ', regr.coef_)\n",
    "print(\"intercept\",regr.intercept_)"
   ]
  },
  {
   "cell_type": "code",
   "execution_count": 39,
   "metadata": {
    "id": "FkM5jHWyc0Pq"
   },
   "outputs": [],
   "source": [
    "accuracy = regr.score(x_test,y_test)\n"
   ]
  },
  {
   "cell_type": "code",
   "execution_count": 40,
   "metadata": {
    "colab": {
     "base_uri": "https://localhost:8080/",
     "height": 34
    },
    "id": "jwtikw60c3YD",
    "outputId": "41f925af-6605-4a94-be82-04035313ac56"
   },
   "outputs": [
    {
     "name": "stdout",
     "output_type": "stream",
     "text": [
      "47.60864001376864 %\n"
     ]
    }
   ],
   "source": [
    "print(accuracy*100,'%')"
   ]
  },
  {
   "cell_type": "markdown",
   "metadata": {
    "id": "AcyJBi92eGj6"
   },
   "source": [
    "# Decision Tree regression"
   ]
  },
  {
   "cell_type": "code",
   "execution_count": 41,
   "metadata": {
    "colab": {
     "base_uri": "https://localhost:8080/",
     "height": 123
    },
    "id": "ZbExqu1OeL0Y",
    "outputId": "ac4d8450-2223-4849-9d1e-cf447265d8be"
   },
   "outputs": [
    {
     "data": {
      "text/plain": [
       "DecisionTreeClassifier(class_weight=None, criterion='entropy', max_depth=None,\n",
       "                       max_features=None, max_leaf_nodes=None,\n",
       "                       min_impurity_decrease=0.0, min_impurity_split=None,\n",
       "                       min_samples_leaf=1, min_samples_split=2,\n",
       "                       min_weight_fraction_leaf=0.0, presort=False,\n",
       "                       random_state=None, splitter='best')"
      ]
     },
     "execution_count": 41,
     "metadata": {},
     "output_type": "execute_result"
    }
   ],
   "source": [
    "from sklearn.tree import DecisionTreeClassifier\n",
    "score_tree = DecisionTreeClassifier(criterion=\"entropy\")\n",
    "score_tree# it shows the default parameters"
   ]
  },
  {
   "cell_type": "code",
   "execution_count": 42,
   "metadata": {
    "colab": {
     "base_uri": "https://localhost:8080/",
     "height": 123
    },
    "id": "vsVLssdVeuJT",
    "outputId": "48414332-f7b3-4d06-eae4-2c568e643d69"
   },
   "outputs": [
    {
     "data": {
      "text/plain": [
       "DecisionTreeClassifier(class_weight=None, criterion='entropy', max_depth=None,\n",
       "                       max_features=None, max_leaf_nodes=None,\n",
       "                       min_impurity_decrease=0.0, min_impurity_split=None,\n",
       "                       min_samples_leaf=1, min_samples_split=2,\n",
       "                       min_weight_fraction_leaf=0.0, presort=False,\n",
       "                       random_state=None, splitter='best')"
      ]
     },
     "execution_count": 42,
     "metadata": {},
     "output_type": "execute_result"
    }
   ],
   "source": [
    "score_tree.fit(x_train,y_train)"
   ]
  },
  {
   "cell_type": "code",
   "execution_count": 43,
   "metadata": {
    "id": "klUBebVQe1uD"
   },
   "outputs": [],
   "source": [
    "predTree = score_tree.predict(x_test)"
   ]
  },
  {
   "cell_type": "code",
   "execution_count": 44,
   "metadata": {
    "colab": {
     "base_uri": "https://localhost:8080/",
     "height": 34
    },
    "id": "qudeAcS5fGCH",
    "outputId": "ba9b2c16-d727-4dea-9a82-4978ccc20335"
   },
   "outputs": [
    {
     "name": "stdout",
     "output_type": "stream",
     "text": [
      "DecisionTrees's Accuracy:  0.7211242225193281\n"
     ]
    }
   ],
   "source": [
    "from sklearn import metrics\n",
    "\n",
    "print(\"DecisionTrees's Accuracy: \", metrics.accuracy_score(y_test, predTree))"
   ]
  }
 ],
 "metadata": {
  "colab": {
   "name": "verzeo ODI  score.ipynb",
   "provenance": []
  },
  "kernelspec": {
   "display_name": "Python 3 (ipykernel)",
   "language": "python",
   "name": "python3"
  },
  "language_info": {
   "codemirror_mode": {
    "name": "ipython",
    "version": 3
   },
   "file_extension": ".py",
   "mimetype": "text/x-python",
   "name": "python",
   "nbconvert_exporter": "python",
   "pygments_lexer": "ipython3",
   "version": "3.9.6"
  }
 },
 "nbformat": 4,
 "nbformat_minor": 1
}
